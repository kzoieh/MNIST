{
 "cells": [
  {
   "cell_type": "code",
   "execution_count": 31,
   "metadata": {},
   "outputs": [],
   "source": [
    "import numpy as np\n",
    "import pandas as pd \n",
    "import seaborn as sns\n",
    "import matplotlib.pyplot as plt\n",
    "%matplotlib inline\n",
    "\n",
    "import random as rn\n",
    "\n",
    "import tensorflow as tf\n",
    "import keras\n",
    "\n",
    "from keras.models import Sequential\n",
    "from keras.layers import Dense, Dropout, Flatten\n",
    "from keras.layers import Conv2D, MaxPooling2D\n",
    "\n",
    "import warnings\n",
    "\n",
    "from scipy.io import loadmat\n",
    "from sklearn.model_selection import train_test_split"
   ]
  },
  {
   "attachments": {},
   "cell_type": "markdown",
   "metadata": {},
   "source": [
    "1. Load Dataset"
   ]
  },
  {
   "cell_type": "code",
   "execution_count": 32,
   "metadata": {},
   "outputs": [],
   "source": [
    "%config IPCompleter.greedy = True"
   ]
  },
  {
   "cell_type": "code",
   "execution_count": 33,
   "metadata": {},
   "outputs": [],
   "source": [
    "warnings.filterwarnings('ignore')"
   ]
  },
  {
   "cell_type": "code",
   "execution_count": 34,
   "metadata": {},
   "outputs": [],
   "source": [
    "mnist = loadmat('mnist-original.mat')"
   ]
  },
  {
   "cell_type": "code",
   "execution_count": 35,
   "metadata": {},
   "outputs": [],
   "source": [
    "x = mnist['data'].T\n",
    "y = mnist['label'][0]"
   ]
  },
  {
   "cell_type": "code",
   "execution_count": 36,
   "metadata": {},
   "outputs": [
    {
     "name": "stdout",
     "output_type": "stream",
     "text": [
      "MNIST data shape - (70000, 784)\n",
      "MNIST label shape - (70000,)\n"
     ]
    }
   ],
   "source": [
    "print('MNIST data shape - {0}'.format(x.shape))\n",
    "print('MNIST label shape - {0}'.format(y.shape))"
   ]
  },
  {
   "attachments": {},
   "cell_type": "markdown",
   "metadata": {},
   "source": [
    "2. Data Preparation"
   ]
  },
  {
   "cell_type": "code",
   "execution_count": 37,
   "metadata": {},
   "outputs": [],
   "source": [
    "img_height = 28\n",
    "img_width = 28\n",
    "channels = 1\n",
    "\n",
    "input_shape = (img_height, img_width, channels)\n",
    "num_classes = 10\n",
    "\n",
    "epoch = 20\n",
    "batch_size = 128"
   ]
  },
  {
   "cell_type": "code",
   "execution_count": 38,
   "metadata": {},
   "outputs": [
    {
     "name": "stdout",
     "output_type": "stream",
     "text": [
      "(70000, 28, 28, 1)\n"
     ]
    }
   ],
   "source": [
    "x_reshape = x.reshape(x.shape[0], img_height, img_width, channels)\n",
    "\n",
    "print(x_reshape.shape)"
   ]
  },
  {
   "cell_type": "code",
   "execution_count": 39,
   "metadata": {},
   "outputs": [
    {
     "name": "stdout",
     "output_type": "stream",
     "text": [
      "(70000, 10)\n"
     ]
    }
   ],
   "source": [
    "y_encoded = keras.utils.to_categorical(y, num_classes)\n",
    "\n",
    "print(y_encoded.shape)"
   ]
  },
  {
   "cell_type": "code",
   "execution_count": 40,
   "metadata": {},
   "outputs": [
    {
     "data": {
      "text/plain": [
       "[[0, 0, 0, 0, 0, 0, 1, 0, 0, 0],\n",
       " [0, 0, 0, 0, 0, 0, 0, 0, 0, 1],\n",
       " [0, 0, 0, 0, 0, 0, 1, 0, 0, 0],\n",
       " [0, 0, 0, 0, 0, 0, 0, 0, 1, 0],\n",
       " [0, 0, 0, 0, 0, 0, 0, 1, 0, 0],\n",
       " [0, 0, 1, 0, 0, 0, 0, 0, 0, 0],\n",
       " [0, 1, 0, 0, 0, 0, 0, 0, 0, 0],\n",
       " [0, 0, 0, 0, 0, 0, 1, 0, 0, 0],\n",
       " [0, 0, 0, 1, 0, 0, 0, 0, 0, 0],\n",
       " [0, 0, 0, 0, 0, 0, 0, 0, 0, 1]]"
      ]
     },
     "execution_count": 40,
     "metadata": {},
     "output_type": "execute_result"
    }
   ],
   "source": [
    "idx = rn.sample(range(0, len(y_encoded)), 10)\n",
    "y_random = []\n",
    "for i in idx:\n",
    "    y_random.append([int(x) for x in y_encoded[i]])\n",
    "\n",
    "y_random"
   ]
  },
  {
   "cell_type": "code",
   "execution_count": 41,
   "metadata": {},
   "outputs": [],
   "source": [
    "x_reshape = x_reshape.astype('float32')\n",
    "x_reshape /= 255"
   ]
  },
  {
   "attachments": {},
   "cell_type": "markdown",
   "metadata": {},
   "source": [
    "3. Train / Test Split"
   ]
  },
  {
   "cell_type": "code",
   "execution_count": 42,
   "metadata": {},
   "outputs": [],
   "source": [
    "x_train, x_test, y_train, y_test = train_test_split(x_reshape, y_encoded, test_size = 0.25, random_state = 0)"
   ]
  },
  {
   "cell_type": "code",
   "execution_count": 43,
   "metadata": {},
   "outputs": [
    {
     "name": "stdout",
     "output_type": "stream",
     "text": [
      "training data shape : image - (52500, 28, 28, 1), label - (52500, 10)\n",
      "test data shape : image - (17500, 28, 28, 1), label - (17500, 10)\n"
     ]
    }
   ],
   "source": [
    "print('training data shape : image - {0}, label - {1}'.format(x_train.shape, y_train.shape))\n",
    "print('test data shape : image - {0}, label - {1}'.format(x_test.shape, y_test.shape))"
   ]
  },
  {
   "cell_type": "code",
   "execution_count": 44,
   "metadata": {},
   "outputs": [
    {
     "data": {
      "text/plain": [
       "<matplotlib.image.AxesImage at 0x1f1aaba3a60>"
      ]
     },
     "execution_count": 44,
     "metadata": {},
     "output_type": "execute_result"
    },
    {
     "data": {
      "image/png": "[encoded data removed]",
      "text/plain": [
       "<Figure size 432x288 with 1 Axes>"
      ]
     },
     "metadata": {
      "needs_background": "light"
     },
     "output_type": "display_data"
    }
   ],
   "source": [
    "idx = rn.randint(0, x_train.shape[0])\n",
    "plt.imshow(x_train[idx][:,:,0],\"gray\") "
   ]
  },
  {
   "cell_type": "code",
   "execution_count": 45,
   "metadata": {},
   "outputs": [],
   "source": [
    "x_train, x_validation, y_train, y_validation = train_test_split(x_train, y_train, test_size = 0.25, random_state = 0)"
   ]
  },
  {
   "cell_type": "code",
   "execution_count": 46,
   "metadata": {},
   "outputs": [
    {
     "name": "stdout",
     "output_type": "stream",
     "text": [
      "training data shape : image - (39375, 28, 28, 1), label - (39375, 10)\n",
      "validation data shape : image - (13125, 28, 28, 1), label - (13125, 10)\n"
     ]
    }
   ],
   "source": [
    "print('training data shape : image - {0}, label - {1}'.format(x_train.shape, y_train.shape))\n",
    "print('validation data shape : image - {0}, label - {1}'.format(x_validation.shape, y_validation.shape))"
   ]
  },
  {
   "attachments": {},
   "cell_type": "markdown",
   "metadata": {},
   "source": [
    "4. Model"
   ]
  },
  {
   "cell_type": "code",
   "execution_count": 47,
   "metadata": {},
   "outputs": [
    {
     "name": "stdout",
     "output_type": "stream",
     "text": [
      "Model: \"sequential\"\n",
      "_________________________________________________________________\n",
      " Layer (type)                Output Shape              Param #   \n",
      "=================================================================\n",
      " conv2d (Conv2D)             (None, 26, 26, 32)        320       \n",
      "                                                                 \n",
      " conv2d_1 (Conv2D)           (None, 24, 24, 64)        18496     \n",
      "                                                                 \n",
      " max_pooling2d (MaxPooling2D  (None, 12, 12, 64)       0         \n",
      " )                                                               \n",
      "                                                                 \n",
      " dropout (Dropout)           (None, 12, 12, 64)        0         \n",
      "                                                                 \n",
      " flatten (Flatten)           (None, 9216)              0         \n",
      "                                                                 \n",
      " dense (Dense)               (None, 128)               1179776   \n",
      "                                                                 \n",
      " dropout_1 (Dropout)         (None, 128)               0         \n",
      "                                                                 \n",
      " dense_1 (Dense)             (None, 10)                1290      \n",
      "                                                                 \n",
      "=================================================================\n",
      "Total params: 1,199,882\n",
      "Trainable params: 1,199,882\n",
      "Non-trainable params: 0\n",
      "_________________________________________________________________\n"
     ]
    }
   ],
   "source": [
    "# model\n",
    "model = Sequential()\n",
    "\n",
    "# first conv layer\n",
    "model.add(Conv2D(32, kernel_size=(3, 3),\n",
    "                 activation='relu',\n",
    "                 input_shape=input_shape))\n",
    "\n",
    "# second conv layer\n",
    "model.add(Conv2D(64, kernel_size=(3, 3), \n",
    "                 activation='relu'))\n",
    "model.add(MaxPooling2D(pool_size=(2, 2)))\n",
    "model.add(Dropout(0.25))\n",
    "\n",
    "# flatten and put a fully connected layer\n",
    "model.add(Flatten())\n",
    "model.add(Dense(128, activation='relu')) # fully connected\n",
    "model.add(Dropout(0.5))\n",
    "\n",
    "# softmax layer\n",
    "model.add(Dense(num_classes, activation='softmax'))\n",
    "\n",
    "# model summary\n",
    "model.summary()"
   ]
  },
  {
   "cell_type": "code",
   "execution_count": 48,
   "metadata": {},
   "outputs": [],
   "source": [
    "model.compile(loss=keras.losses.categorical_crossentropy,\n",
    "              optimizer=keras.optimizers.Adadelta(),\n",
    "              metrics=['accuracy'])"
   ]
  },
  {
   "cell_type": "code",
   "execution_count": 49,
   "metadata": {},
   "outputs": [
    {
     "name": "stdout",
     "output_type": "stream",
     "text": [
      "Epoch 1/20\n",
      "308/308 [==============================] - 38s 122ms/step - loss: 2.2858 - accuracy: 0.1451 - val_loss: 2.2490 - val_accuracy: 0.2984\n",
      "Epoch 2/20\n",
      "308/308 [==============================] - 36s 118ms/step - loss: 2.2317 - accuracy: 0.2430 - val_loss: 2.1891 - val_accuracy: 0.4864\n",
      "Epoch 3/20\n",
      "308/308 [==============================] - 36s 117ms/step - loss: 2.1737 - accuracy: 0.3433 - val_loss: 2.1203 - val_accuracy: 0.5534\n",
      "Epoch 4/20\n",
      "308/308 [==============================] - 35s 114ms/step - loss: 2.1048 - accuracy: 0.4212 - val_loss: 2.0376 - val_accuracy: 0.6051\n",
      "Epoch 5/20\n",
      "308/308 [==============================] - 35s 115ms/step - loss: 2.0213 - accuracy: 0.4744 - val_loss: 1.9393 - val_accuracy: 0.6488\n",
      "Epoch 6/20\n",
      "308/308 [==============================] - 36s 117ms/step - loss: 1.9250 - accuracy: 0.5186 - val_loss: 1.8246 - val_accuracy: 0.6786\n",
      "Epoch 7/20\n",
      "308/308 [==============================] - 35s 115ms/step - loss: 1.8168 - accuracy: 0.5466 - val_loss: 1.6967 - val_accuracy: 0.7078\n",
      "Epoch 8/20\n",
      "308/308 [==============================] - 35s 114ms/step - loss: 1.7026 - accuracy: 0.5721 - val_loss: 1.5610 - val_accuracy: 0.7312\n",
      "Epoch 9/20\n",
      "308/308 [==============================] - 36s 116ms/step - loss: 1.5810 - accuracy: 0.5963 - val_loss: 1.4235 - val_accuracy: 0.7554\n",
      "Epoch 10/20\n",
      "308/308 [==============================] - 35s 114ms/step - loss: 1.4637 - accuracy: 0.6186 - val_loss: 1.2937 - val_accuracy: 0.7694\n",
      "Epoch 11/20\n",
      "308/308 [==============================] - 35s 113ms/step - loss: 1.3591 - accuracy: 0.6375 - val_loss: 1.1775 - val_accuracy: 0.7826\n",
      "Epoch 12/20\n",
      "308/308 [==============================] - 34s 110ms/step - loss: 1.2646 - accuracy: 0.6538 - val_loss: 1.0759 - val_accuracy: 0.7918\n",
      "Epoch 13/20\n",
      "308/308 [==============================] - 36s 117ms/step - loss: 1.1840 - accuracy: 0.6719 - val_loss: 0.9893 - val_accuracy: 0.8022\n",
      "Epoch 14/20\n",
      "308/308 [==============================] - 34s 112ms/step - loss: 1.1156 - accuracy: 0.6816 - val_loss: 0.9161 - val_accuracy: 0.8090\n",
      "Epoch 15/20\n",
      "308/308 [==============================] - 34s 112ms/step - loss: 1.0569 - accuracy: 0.6935 - val_loss: 0.8551 - val_accuracy: 0.8139\n",
      "Epoch 16/20\n",
      "308/308 [==============================] - 34s 109ms/step - loss: 1.0089 - accuracy: 0.7028 - val_loss: 0.8034 - val_accuracy: 0.8200\n",
      "Epoch 17/20\n",
      "308/308 [==============================] - 34s 110ms/step - loss: 0.9612 - accuracy: 0.7157 - val_loss: 0.7589 - val_accuracy: 0.8251\n",
      "Epoch 18/20\n",
      "308/308 [==============================] - 33s 108ms/step - loss: 0.9245 - accuracy: 0.7266 - val_loss: 0.7206 - val_accuracy: 0.8312\n",
      "Epoch 19/20\n",
      "308/308 [==============================] - 33s 107ms/step - loss: 0.8881 - accuracy: 0.7353 - val_loss: 0.6872 - val_accuracy: 0.8357\n",
      "Epoch 20/20\n",
      "308/308 [==============================] - 33s 108ms/step - loss: 0.8579 - accuracy: 0.7453 - val_loss: 0.6584 - val_accuracy: 0.8405\n"
     ]
    },
    {
     "data": {
      "text/plain": [
       "<keras.callbacks.History at 0x1f1a9c10220>"
      ]
     },
     "execution_count": 49,
     "metadata": {},
     "output_type": "execute_result"
    }
   ],
   "source": [
    "model.fit(x_train, \n",
    "         y_train,\n",
    "         batch_size = batch_size,\n",
    "         epochs = epoch,\n",
    "         verbose = 1,\n",
    "         validation_data=(x_validation, y_validation))"
   ]
  },
  {
   "attachments": {},
   "cell_type": "markdown",
   "metadata": {},
   "source": [
    "5. Evaluation"
   ]
  },
  {
   "cell_type": "code",
   "execution_count": 50,
   "metadata": {},
   "outputs": [
    {
     "name": "stdout",
     "output_type": "stream",
     "text": [
      "547/547 [==============================] - 4s 8ms/step - loss: 0.6464 - accuracy: 0.8449\n"
     ]
    },
    {
     "data": {
      "text/plain": [
       "[0.6464349031448364, 0.8449142575263977]"
      ]
     },
     "execution_count": 50,
     "metadata": {},
     "output_type": "execute_result"
    }
   ],
   "source": [
    "model.evaluate(x_test, y_test)"
   ]
  },
  {
   "cell_type": "code",
   "execution_count": 51,
   "metadata": {},
   "outputs": [],
   "source": [
    "model.compile(loss=keras.losses.categorical_crossentropy,\n",
    "              optimizer=keras.optimizers.SGD(lr=0.0001, momentum=0.9, nesterov=True),\n",
    "              metrics=['accuracy'])"
   ]
  },
  {
   "cell_type": "code",
   "execution_count": 52,
   "metadata": {},
   "outputs": [
    {
     "name": "stdout",
     "output_type": "stream",
     "text": [
      "Epoch 1/20\n",
      "308/308 [==============================] - 35s 111ms/step - loss: 0.7819 - accuracy: 0.7614 - val_loss: 0.5451 - val_accuracy: 0.8562\n",
      "Epoch 2/20\n",
      "308/308 [==============================] - 34s 111ms/step - loss: 0.6965 - accuracy: 0.7826 - val_loss: 0.4866 - val_accuracy: 0.8670\n",
      "Epoch 3/20\n",
      "308/308 [==============================] - 34s 111ms/step - loss: 0.6373 - accuracy: 0.8014 - val_loss: 0.4482 - val_accuracy: 0.8742\n",
      "Epoch 4/20\n",
      "308/308 [==============================] - 33s 107ms/step - loss: 0.6014 - accuracy: 0.8145 - val_loss: 0.4209 - val_accuracy: 0.8808\n",
      "Epoch 5/20\n",
      "308/308 [==============================] - 34s 111ms/step - loss: 0.5682 - accuracy: 0.8244 - val_loss: 0.3988 - val_accuracy: 0.8863\n",
      "Epoch 6/20\n",
      "308/308 [==============================] - 34s 110ms/step - loss: 0.5452 - accuracy: 0.8336 - val_loss: 0.3821 - val_accuracy: 0.8905\n",
      "Epoch 7/20\n",
      "308/308 [==============================] - 33s 107ms/step - loss: 0.5289 - accuracy: 0.8368 - val_loss: 0.3662 - val_accuracy: 0.8943\n",
      "Epoch 8/20\n",
      "308/308 [==============================] - 34s 109ms/step - loss: 0.5007 - accuracy: 0.8494 - val_loss: 0.3534 - val_accuracy: 0.8976\n",
      "Epoch 9/20\n",
      "308/308 [==============================] - 34s 112ms/step - loss: 0.4877 - accuracy: 0.8514 - val_loss: 0.3430 - val_accuracy: 0.9007\n",
      "Epoch 10/20\n",
      "308/308 [==============================] - 35s 114ms/step - loss: 0.4699 - accuracy: 0.8574 - val_loss: 0.3330 - val_accuracy: 0.9032\n",
      "Epoch 11/20\n",
      "308/308 [==============================] - 32s 104ms/step - loss: 0.4632 - accuracy: 0.8595 - val_loss: 0.3250 - val_accuracy: 0.9050\n",
      "Epoch 12/20\n",
      "308/308 [==============================] - 36s 116ms/step - loss: 0.4484 - accuracy: 0.8644 - val_loss: 0.3168 - val_accuracy: 0.9067\n",
      "Epoch 13/20\n",
      "308/308 [==============================] - 40s 131ms/step - loss: 0.4457 - accuracy: 0.8651 - val_loss: 0.3098 - val_accuracy: 0.9095\n",
      "Epoch 14/20\n",
      "308/308 [==============================] - 39s 126ms/step - loss: 0.4335 - accuracy: 0.8685 - val_loss: 0.3031 - val_accuracy: 0.9122\n",
      "Epoch 15/20\n",
      "308/308 [==============================] - 34s 110ms/step - loss: 0.4257 - accuracy: 0.8701 - val_loss: 0.2975 - val_accuracy: 0.9132\n",
      "Epoch 16/20\n",
      "308/308 [==============================] - 34s 110ms/step - loss: 0.4174 - accuracy: 0.8744 - val_loss: 0.2911 - val_accuracy: 0.9159\n",
      "Epoch 17/20\n",
      "308/308 [==============================] - 34s 110ms/step - loss: 0.4070 - accuracy: 0.8783 - val_loss: 0.2841 - val_accuracy: 0.9176\n",
      "Epoch 18/20\n",
      "308/308 [==============================] - 33s 107ms/step - loss: 0.4002 - accuracy: 0.8786 - val_loss: 0.2783 - val_accuracy: 0.9192\n",
      "Epoch 19/20\n",
      "308/308 [==============================] - 33s 107ms/step - loss: 0.3901 - accuracy: 0.8806 - val_loss: 0.2742 - val_accuracy: 0.9202\n",
      "Epoch 20/20\n",
      "308/308 [==============================] - 33s 107ms/step - loss: 0.3900 - accuracy: 0.8812 - val_loss: 0.2700 - val_accuracy: 0.9214\n"
     ]
    },
    {
     "data": {
      "text/plain": [
       "<keras.callbacks.History at 0x1f1aa834ee0>"
      ]
     },
     "execution_count": 52,
     "metadata": {},
     "output_type": "execute_result"
    }
   ],
   "source": [
    "model.fit(x_train, \n",
    "         y_train,\n",
    "         batch_size = batch_size,\n",
    "         epochs = epoch,\n",
    "         verbose = 1,\n",
    "         validation_data=(x_validation, y_validation))"
   ]
  },
  {
   "cell_type": "code",
   "execution_count": 53,
   "metadata": {},
   "outputs": [
    {
     "name": "stdout",
     "output_type": "stream",
     "text": [
      "547/547 [==============================] - 5s 10ms/step - loss: 0.2580 - accuracy: 0.9231\n"
     ]
    },
    {
     "data": {
      "text/plain": [
       "[0.25795093178749084, 0.9231428503990173]"
      ]
     },
     "execution_count": 53,
     "metadata": {},
     "output_type": "execute_result"
    }
   ],
   "source": [
    "model.evaluate(x_test, y_test)"
   ]
  }
 ],
 "metadata": {
  "kernelspec": {
   "display_name": "base",
   "language": "python",
   "name": "python3"
  },
  "language_info": {
   "codemirror_mode": {
    "name": "ipython",
    "version": 3
   },
   "file_extension": ".py",
   "mimetype": "text/x-python",
   "name": "python",
   "nbconvert_exporter": "python",
   "pygments_lexer": "ipython3",
   "version": "3.9.12"
  },
  "orig_nbformat": 4
 },
 "nbformat": 4,
 "nbformat_minor": 2
}
